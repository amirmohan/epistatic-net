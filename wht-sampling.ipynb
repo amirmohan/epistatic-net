{
 "cells": [
  {
   "cell_type": "code",
   "execution_count": 23,
   "metadata": {},
   "outputs": [],
   "source": [
    "import numpy as np\n",
    "import pickle\n"
   ]
  },
  {
   "cell_type": "code",
   "execution_count": 24,
   "metadata": {},
   "outputs": [],
   "source": [
    "def random_binary_matrix(m, n, p=0.5):\n",
    "    A = np.random.binomial(1,p,size=(m,n))\n",
    "    return A\n",
    "\n",
    "def dec_to_bin(x, num_bits):\n",
    "    assert x < 2**num_bits, \"number of bits are not enough\"\n",
    "    u = bin(x)[2:].zfill(num_bits)\n",
    "    u = list(u)\n",
    "    u = [int(i) for i in u]\n",
    "    return np.array(u)\n",
    "\n",
    "def get_sampling_index(x, A, p=0):\n",
    "    \"\"\"\n",
    "    x: sampling index\n",
    "    A: subsampling matrix\n",
    "    p: delay\n",
    "    \"\"\"\n",
    "    num_bits = A.shape[0]\n",
    "    x = dec_to_bin(x, num_bits)\n",
    "    r = x.dot(A) + p\n",
    "    return r % 2\n",
    "\n",
    "def get_random_binary_string(num_bits, p=0.5):\n",
    "    a = np.random.binomial(1,p,size=num_bits)\n",
    "    return a\n",
    "\n",
    "def random_delay_pair(num_bits, target_bit):\n",
    "    \"\"\"\n",
    "    num_bits: number of bits\n",
    "    location_target: the targeted location (q in equation 26 in https://arxiv.org/pdf/1508.06336.pdf)\n",
    "    \"\"\"\n",
    "    e_q = 2**target_bit\n",
    "    e_q = dec_to_bin(e_q, num_bits)\n",
    "    \n",
    "    random_seed = get_random_binary_string(num_bits)\n",
    "    \n",
    "    return random_seed, (random_seed+e_q)%2\n",
    "\n",
    "def make_delay_pairs(num_pairs, num_bits):\n",
    "    z = []\n",
    "    # this is the all zeros for finding the sign\n",
    "    # actually we do not need this here because we solve\n",
    "    # a linear system to find the value of the coefficient\n",
    "    # after the location is found -- however, i am going to\n",
    "    # keep this here not to have to change the rest of the code\n",
    "    # that takes delays of this form\n",
    "    z.append(dec_to_bin(0,num_bits))\n",
    "    # go over recovering each bit, we need to recover bits 0 to num_bits-1\n",
    "    for bit_index in range(0, num_bits):\n",
    "        # we have num_pairs many pairs to do majority decoding\n",
    "        for pair_idx in range(num_pairs):\n",
    "            a,b = random_delay_pair(num_bits, bit_index)\n",
    "            z.append(a)\n",
    "            z.append(b)\n",
    "    return z"
   ]
  },
  {
   "cell_type": "code",
   "execution_count": 25,
   "metadata": {},
   "outputs": [],
   "source": [
    "# the sparsity we target is around K = 2**m\n",
    "m = 4\n",
    "\n",
    "# this is the signal length N = 2**n\n",
    "n = 13\n",
    "\n",
    "# num delays per single bit of the location index\n",
    "# (the larger this number the more tolerant to noise we are)\n",
    "# so one needs to play around with this a bit\n",
    "d = 5\n"
   ]
  },
  {
   "cell_type": "code",
   "execution_count": 26,
   "metadata": {},
   "outputs": [
    {
     "name": "stdout",
     "output_type": "stream",
     "text": [
      "target K around: 32\n"
     ]
    }
   ],
   "source": [
    "print('target K around: {}'.format(int((3*2**m)//1.5)))"
   ]
  },
  {
   "cell_type": "code",
   "execution_count": 27,
   "metadata": {},
   "outputs": [
    {
     "name": "stdout",
     "output_type": "stream",
     "text": [
      "total samples: 2288\n",
      "samples/ambient dimension: 0.279296875\n"
     ]
    }
   ],
   "source": [
    "# total number of samples from the signal\n",
    "# from this you can calculate the time necessary\n",
    "# you can adjust d accordingly to tune the time necessary\n",
    "# the larger d is better, but then it takes more time too\n",
    "total_samples = (2**m)*n*(d*2+1)\n",
    "print('total samples: {}'.format(total_samples))\n",
    "\n",
    "print('samples/ambient dimension: {}'.format(total_samples/(2**n)))"
   ]
  },
  {
   "cell_type": "markdown",
   "metadata": {},
   "source": [
    "We need to run the code below 3 times and save as separate matrices"
   ]
  },
  {
   "cell_type": "code",
   "execution_count": 28,
   "metadata": {},
   "outputs": [],
   "source": [
    "A = random_binary_matrix(m, n)\n",
    "\n",
    "sampling_locations_base = []\n",
    "\n",
    "for i in range(2**A.shape[0]):\n",
    "    sampling_locations_base.append(get_sampling_index(i,A))\n",
    "sampling_locations_base = np.array(sampling_locations_base)\n",
    "\n",
    "delays = make_delay_pairs(d, A.shape[1])\n",
    "# delays = np.array(delays).shape"
   ]
  },
  {
   "cell_type": "code",
   "execution_count": 29,
   "metadata": {},
   "outputs": [
    {
     "name": "stdout",
     "output_type": "stream",
     "text": [
      "[[0 0 0 0 0 0 0 0 0 0 0 0 0]\n",
      " [1 0 1 1 0 0 1 1 0 1 1 1 0]\n",
      " [0 0 1 1 0 1 0 0 0 0 0 1 1]\n",
      " [1 0 0 0 0 1 1 1 0 1 1 0 1]\n",
      " [1 1 1 0 0 0 1 1 1 1 1 0 0]\n",
      " [0 1 0 1 0 0 0 0 1 0 0 1 0]\n",
      " [1 1 0 1 0 1 1 1 1 1 1 1 1]\n",
      " [0 1 1 0 0 1 0 0 1 0 0 0 1]\n",
      " [1 0 0 0 0 0 0 1 1 0 1 1 0]\n",
      " [0 0 1 1 0 0 1 0 1 1 0 0 0]\n",
      " [1 0 1 1 0 1 0 1 1 0 1 0 1]\n",
      " [0 0 0 0 0 1 1 0 1 1 0 1 1]\n",
      " [0 1 1 0 0 0 1 0 0 1 0 1 0]\n",
      " [1 1 0 1 0 0 0 1 0 0 1 0 0]\n",
      " [0 1 0 1 0 1 1 0 0 1 0 0 1]\n",
      " [1 1 1 0 0 1 0 1 0 0 1 1 1]]\n"
     ]
    }
   ],
   "source": [
    "# example without the delay\n",
    "print(sampling_locations_base)"
   ]
  },
  {
   "cell_type": "code",
   "execution_count": 30,
   "metadata": {
    "scrolled": true
   },
   "outputs": [],
   "source": [
    "all_sampling_locations = []\n",
    "\n",
    "for current_delay in delays:\n",
    "    new_sampling_locations = (sampling_locations_base + current_delay) % 2\n",
    "    all_sampling_locations.append(new_sampling_locations)"
   ]
  },
  {
   "cell_type": "markdown",
   "metadata": {},
   "source": [
    "This is a list of all matrices of all sampling locations necessary"
   ]
  },
  {
   "cell_type": "code",
   "execution_count": 31,
   "metadata": {},
   "outputs": [
    {
     "name": "stdout",
     "output_type": "stream",
     "text": [
      "[[0 1 0 1 1 0 1 0 0 0 0 0 0]\n",
      " [1 1 1 0 1 0 0 1 0 1 1 1 0]\n",
      " [0 1 1 0 1 1 1 0 0 0 0 1 1]\n",
      " [1 1 0 1 1 1 0 1 0 1 1 0 1]\n",
      " [1 0 1 1 1 0 0 1 1 1 1 0 0]\n",
      " [0 0 0 0 1 0 1 0 1 0 0 1 0]\n",
      " [1 0 0 0 1 1 0 1 1 1 1 1 1]\n",
      " [0 0 1 1 1 1 1 0 1 0 0 0 1]\n",
      " [1 1 0 1 1 0 1 1 1 0 1 1 0]\n",
      " [0 1 1 0 1 0 0 0 1 1 0 0 0]\n",
      " [1 1 1 0 1 1 1 1 1 0 1 0 1]\n",
      " [0 1 0 1 1 1 0 0 1 1 0 1 1]\n",
      " [0 0 1 1 1 0 0 0 0 1 0 1 0]\n",
      " [1 0 0 0 1 0 1 1 0 0 1 0 0]\n",
      " [0 0 0 0 1 1 0 0 0 1 0 0 1]\n",
      " [1 0 1 1 1 1 1 1 0 0 1 1 1]]\n"
     ]
    }
   ],
   "source": [
    "# example with the delay\n",
    "print(all_sampling_locations[1])"
   ]
  },
  {
   "cell_type": "code",
   "execution_count": 32,
   "metadata": {},
   "outputs": [],
   "source": [
    "# change this to change the output file names\n",
    "run_number = 1\n"
   ]
  },
  {
   "cell_type": "markdown",
   "metadata": {},
   "source": [
    "Save the matrix and the delays used to generate the sampling locations because they will be necessary for the algorithm "
   ]
  },
  {
   "cell_type": "code",
   "execution_count": 33,
   "metadata": {},
   "outputs": [],
   "source": [
    "pickle.dump(A, open( \"N13-m4-d5/sampling-matrix-{}.p\".format(run_number), \"wb\" ) )\n",
    "pickle.dump(delays, open( \"N13-m4-d5/delays-{}.p\".format(run_number), \"wb\" ) )\n",
    "pickle.dump(all_sampling_locations, open( \"N13-m4-d5/sampling-locations-{}.p\".format(run_number), \"wb\" ) )\n"
   ]
  },
  {
   "cell_type": "code",
   "execution_count": null,
   "metadata": {},
   "outputs": [],
   "source": []
  },
  {
   "cell_type": "code",
   "execution_count": null,
   "metadata": {},
   "outputs": [],
   "source": []
  }
 ],
 "metadata": {
  "kernelspec": {
   "display_name": "Python 3",
   "language": "python",
   "name": "python3"
  },
  "language_info": {
   "codemirror_mode": {
    "name": "ipython",
    "version": 3
   },
   "file_extension": ".py",
   "mimetype": "text/x-python",
   "name": "python",
   "nbconvert_exporter": "python",
   "pygments_lexer": "ipython3",
   "version": "3.7.5"
  }
 },
 "nbformat": 4,
 "nbformat_minor": 2
}
