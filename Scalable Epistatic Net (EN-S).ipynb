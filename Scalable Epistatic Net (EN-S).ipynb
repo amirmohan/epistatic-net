{
 "cells": [
  {
   "cell_type": "markdown",
   "metadata": {},
   "source": [
    "This script implements the EN-S regularization algorithm. \n",
    "\n",
    "Aghazadeh A, Nisonoff H, Ocal O, Brookes DH, Huang Y, Koyluoglu OO, Listgarten J, Ramchandran K. Sparse epistatic regularization of deep neural networks for inferring fitness functions. bioRxiv. 2021 Jan 1:2020-11. doi: https://doi.org/10.1101/2020.11.24.396994\n"
   ]
  },
  {
   "cell_type": "code",
   "execution_count": 1,
   "metadata": {},
   "outputs": [],
   "source": [
    "import numpy as np\n",
    "import pandas as pd\n",
    "from itertools import product\n",
    "import random\n",
    "\n",
    "import torch\n",
    "import torch.nn as nn\n",
    "import torch.nn.functional as F\n",
    "from torch.utils.data import TensorDataset, DataLoader, random_split\n",
    "\n",
    "import matplotlib.pyplot as plt\n",
    "\n",
    "import seaborn as sns\n",
    "from utils import *\n",
    "\n",
    "sns.set_style('white')\n",
    "sns.set_context('talk')"
   ]
  },
  {
   "cell_type": "code",
   "execution_count": 2,
   "metadata": {},
   "outputs": [],
   "source": [
    "def walsh_hadamard_matrix(L=13, normalize=False):\n",
    "    '''\n",
    "    Compute the WHT matrix for domain of dimension L\n",
    "    '''\n",
    "    H1 = np.asarray([[1.,1.], [1.,-1.]])\n",
    "    H = np.asarray([1.])\n",
    "    for i in range(L):\n",
    "        H = np.kron(H, H1)\n",
    "    if normalize:\n",
    "        H = (1 / np.sqrt(2**L)) * H\n",
    "    return H"
   ]
  },
  {
   "cell_type": "code",
   "execution_count": 3,
   "metadata": {},
   "outputs": [
    {
     "data": {
      "text/html": [
       "<div>\n",
       "<style scoped>\n",
       "    .dataframe tbody tr th:only-of-type {\n",
       "        vertical-align: middle;\n",
       "    }\n",
       "\n",
       "    .dataframe tbody tr th {\n",
       "        vertical-align: top;\n",
       "    }\n",
       "\n",
       "    .dataframe thead th {\n",
       "        text-align: right;\n",
       "    }\n",
       "</style>\n",
       "<table border=\"1\" class=\"dataframe\">\n",
       "  <thead>\n",
       "    <tr style=\"text-align: right;\">\n",
       "      <th></th>\n",
       "      <th>binary</th>\n",
       "      <th>amino acid</th>\n",
       "      <th>counts</th>\n",
       "      <th>counts.1</th>\n",
       "      <th>counts.2</th>\n",
       "      <th>Unnamed: 5</th>\n",
       "      <th>brightness</th>\n",
       "      <th>brightness.1</th>\n",
       "      <th>Unnamed: 8</th>\n",
       "      <th>brightness.2</th>\n",
       "    </tr>\n",
       "  </thead>\n",
       "  <tbody>\n",
       "    <tr>\n",
       "      <th>0</th>\n",
       "      <td>genotype</td>\n",
       "      <td>sequence</td>\n",
       "      <td>input</td>\n",
       "      <td>red</td>\n",
       "      <td>blue</td>\n",
       "      <td>NaN</td>\n",
       "      <td>red</td>\n",
       "      <td>blue</td>\n",
       "      <td>NaN</td>\n",
       "      <td>combined</td>\n",
       "    </tr>\n",
       "    <tr>\n",
       "      <th>1</th>\n",
       "      <td>'0000000000000'</td>\n",
       "      <td>DVLTFNSAAYNNK</td>\n",
       "      <td>5431</td>\n",
       "      <td>12</td>\n",
       "      <td>7846</td>\n",
       "      <td>NaN</td>\n",
       "      <td>0.085317</td>\n",
       "      <td>1.574628</td>\n",
       "      <td>NaN</td>\n",
       "      <td>1.574635</td>\n",
       "    </tr>\n",
       "    <tr>\n",
       "      <th>2</th>\n",
       "      <td>'0000000000001'</td>\n",
       "      <td>DVLTFNSAAYNNR</td>\n",
       "      <td>6574</td>\n",
       "      <td>11</td>\n",
       "      <td>9047</td>\n",
       "      <td>NaN</td>\n",
       "      <td>0.075637</td>\n",
       "      <td>1.544269</td>\n",
       "      <td>NaN</td>\n",
       "      <td>1.544276</td>\n",
       "    </tr>\n",
       "    <tr>\n",
       "      <th>3</th>\n",
       "      <td>'0000000000010'</td>\n",
       "      <td>DVLTFNSAAYNKK</td>\n",
       "      <td>10493</td>\n",
       "      <td>33</td>\n",
       "      <td>13352</td>\n",
       "      <td>NaN</td>\n",
       "      <td>0.103633</td>\n",
       "      <td>1.49045</td>\n",
       "      <td>NaN</td>\n",
       "      <td>1.490458</td>\n",
       "    </tr>\n",
       "    <tr>\n",
       "      <th>4</th>\n",
       "      <td>'0000000000011'</td>\n",
       "      <td>DVLTFNSAAYNKR</td>\n",
       "      <td>9545</td>\n",
       "      <td>35</td>\n",
       "      <td>12513</td>\n",
       "      <td>NaN</td>\n",
       "      <td>0.106846</td>\n",
       "      <td>1.511977</td>\n",
       "      <td>NaN</td>\n",
       "      <td>1.511984</td>\n",
       "    </tr>\n",
       "  </tbody>\n",
       "</table>\n",
       "</div>"
      ],
      "text/plain": [
       "            binary     amino acid counts counts.1 counts.2  Unnamed: 5  \\\n",
       "0         genotype       sequence  input      red     blue         NaN   \n",
       "1  '0000000000000'  DVLTFNSAAYNNK   5431       12     7846         NaN   \n",
       "2  '0000000000001'  DVLTFNSAAYNNR   6574       11     9047         NaN   \n",
       "3  '0000000000010'  DVLTFNSAAYNKK  10493       33    13352         NaN   \n",
       "4  '0000000000011'  DVLTFNSAAYNKR   9545       35    12513         NaN   \n",
       "\n",
       "  brightness brightness.1  Unnamed: 8 brightness.2  \n",
       "0        red         blue         NaN     combined  \n",
       "1   0.085317     1.574628         NaN     1.574635  \n",
       "2   0.075637     1.544269         NaN     1.544276  \n",
       "3   0.103633      1.49045         NaN     1.490458  \n",
       "4   0.106846     1.511977         NaN     1.511984  "
      ]
     },
     "execution_count": 3,
     "metadata": {},
     "output_type": "execute_result"
    }
   ],
   "source": [
    "data = pd.read_excel(open('41467_2019_12130_MOESM7_ESM.xlsx', 'rb')) \n",
    "data.head()"
   ]
  },
  {
   "cell_type": "code",
   "execution_count": 4,
   "metadata": {},
   "outputs": [
    {
     "name": "stderr",
     "output_type": "stream",
     "text": [
      "/var/folders/0m/znv2x4f15l370c2fvtf4t8kh0000gn/T/ipykernel_75286/1444983188.py:6: DeprecationWarning: `np.float` is a deprecated alias for the builtin `float`. To silence this warning, use `float` by itself. Doing this will not modify any behavior and is safe. If you specifically wanted the numpy scalar type, use `np.float64` here.\n",
      "Deprecated in NumPy 1.20; for more details and guidance: https://numpy.org/devdocs/release/1.20.0-notes.html#deprecations\n",
      "  brightness = data['brightness.2'][1:].to_numpy(dtype=np.float)\n"
     ]
    }
   ],
   "source": [
    "# get genotypes as strings. the excell file has some odd formating\n",
    "# so we remove the first row and get rid of extra quotes at beginning\n",
    "# and end\n",
    "genotypes = data['binary'].to_numpy()[1:]\n",
    "genotypes = [x[1:-1] for x in genotypes]\n",
    "brightness = data['brightness.2'][1:].to_numpy(dtype=np.float)\n",
    "\n",
    "genotype_to_brightness = {g:b for g,b in zip(genotypes, brightness)}\n",
    "\n",
    "# get dimension of input\n",
    "L = len(genotypes[0])\n",
    "# size of the landscape\n",
    "N = 2**L"
   ]
  },
  {
   "cell_type": "code",
   "execution_count": 5,
   "metadata": {},
   "outputs": [],
   "source": [
    "# get all 2^L inputs\n",
    "all_inputs = np.asarray(list((product((0,1), repeat=L))))\n",
    "# convert to strings\n",
    "all_inputs_as_str = [''.join(map(str, x)) for x in all_inputs]\n",
    "# get y-values for all possible x-values\n",
    "landscape = np.asarray([genotype_to_brightness[g] for g in all_inputs_as_str])"
   ]
  },
  {
   "cell_type": "code",
   "execution_count": 6,
   "metadata": {},
   "outputs": [
    {
     "data": {
      "text/plain": [
       "<matplotlib.lines.Line2D at 0x1399e5c70>"
      ]
     },
     "execution_count": 6,
     "metadata": {},
     "output_type": "execute_result"
    },
    {
     "data": {
      "image/png": "[encoded data removed]",
      "text/plain": [
       "<Figure size 720x288 with 1 Axes>"
      ]
     },
     "metadata": {},
     "output_type": "display_data"
    }
   ],
   "source": [
    "fig, ax = plt.subplots(figsize=(10,4))\n",
    "ax.plot(landscape)\n",
    "ax.axhline(np.mean(landscape), color='C1', linestyle='--')"
   ]
  },
  {
   "cell_type": "code",
   "execution_count": 7,
   "metadata": {},
   "outputs": [],
   "source": [
    "# create WHT matrix \n",
    "H = walsh_hadamard_matrix(L=L)\n",
    "# get WH coefficients\n",
    "spectrum = np.dot(H, landscape)"
   ]
  },
  {
   "cell_type": "code",
   "execution_count": 8,
   "metadata": {},
   "outputs": [
    {
     "data": {
      "text/plain": [
       "Text(0.5, 1.0, 'WHT')"
      ]
     },
     "execution_count": 8,
     "metadata": {},
     "output_type": "execute_result"
    },
    {
     "data": {
      "image/png": "[encoded data removed]",
      "text/plain": [
       "<Figure size 720x288 with 1 Axes>"
      ]
     },
     "metadata": {},
     "output_type": "display_data"
    }
   ],
   "source": [
    "fig, ax = plt.subplots(figsize=(10,4))\n",
    "ax.plot(spectrum)\n",
    "ax.axhline(np.mean(spectrum), color='C1', linestyle='--')\n",
    "ax.set_title('WHT')"
   ]
  },
  {
   "cell_type": "code",
   "execution_count": 9,
   "metadata": {},
   "outputs": [],
   "source": [
    "spectrum_sorted = np.sort(np.abs(spectrum))[::-1]\n",
    "# get normalized cumulative energy\n",
    "cumulative_energy = np.zeros(N)\n",
    "total_energy = np.linalg.norm(spectrum_sorted)\n",
    "for ind in range(N):\n",
    "    cumulative_energy[ind] = np.linalg.norm(spectrum_sorted[0:ind]) / total_energy"
   ]
  },
  {
   "cell_type": "code",
   "execution_count": 10,
   "metadata": {},
   "outputs": [
    {
     "data": {
      "text/plain": [
       "Text(0.5, 1.0, 'Cumulative Energy (Top 100 Coefficients)')"
      ]
     },
     "execution_count": 10,
     "metadata": {},
     "output_type": "execute_result"
    },
    {
     "data": {
      "image/png": "[encoded data removed]",
      "text/plain": [
       "<Figure size 576x288 with 1 Axes>"
      ]
     },
     "metadata": {},
     "output_type": "display_data"
    }
   ],
   "source": [
    "fig, ax = plt.subplots(figsize=(8,4))\n",
    "top_k = 100\n",
    "ax.plot(cumulative_energy[0:top_k])\n",
    "ax.set_title(f'Cumulative Energy (Top {top_k} Coefficients)')"
   ]
  },
  {
   "cell_type": "markdown",
   "metadata": {},
   "source": [
    "Now let's train a network using EN-regularization"
   ]
  },
  {
   "cell_type": "code",
   "execution_count": 11,
   "metadata": {},
   "outputs": [],
   "source": [
    "class Net(nn.Module):\n",
    "    def __init__(self, n, multiplier):\n",
    "        super(Net, self).__init__()\n",
    "        self.fc1 = nn.Linear(n, multiplier*n)\n",
    "        self.bn1 = nn.BatchNorm1d(multiplier*n)\n",
    "        self.fc2 = nn.Linear(multiplier*n, multiplier*n)\n",
    "        self.bn2 = nn.BatchNorm1d(multiplier*n)\n",
    "        self.fc3 = nn.Linear(multiplier*n, n)\n",
    "        self.bn3 = nn.BatchNorm1d(n)\n",
    "        self.fc4 = nn.Linear(n, 1)\n",
    "        torch.nn.init.xavier_uniform_(self.fc1.weight)\n",
    "        torch.nn.init.xavier_uniform_(self.fc2.weight)\n",
    "        torch.nn.init.xavier_uniform_(self.fc3.weight)\n",
    "        torch.nn.init.xavier_uniform_(self.fc4.weight)\n",
    "\n",
    "    def forward(self, x):\n",
    "        x = self.bn1(F.leaky_relu(self.fc1(x)))\n",
    "        x = self.bn2(F.leaky_relu(self.fc2(x)))\n",
    "        x = self.bn3(F.leaky_relu(self.fc3(x)))\n",
    "        x = self.fc4(x)\n",
    "        return x.reshape(-1)\n"
   ]
  },
  {
   "cell_type": "code",
   "execution_count": 12,
   "metadata": {},
   "outputs": [],
   "source": [
    "def compute_wht_spectrum(model, H, all_inputs, device=\"cuda\"):\n",
    "    '''\n",
    "    Compute the WH spectrum of the DNN model\n",
    "    Used for EN-regularization\n",
    "    '''\n",
    "    all_inputs = all_inputs.to(device)\n",
    "    H = H.to(device)\n",
    "    # get all outputs of model (aka landscape)\n",
    "    landscape = model(all_inputs).reshape(-1)\n",
    "    # compute spectrum by matrix-vector multiplication with WHT basis\n",
    "    spectrum = torch.matmul(H, landscape)\n",
    "    # clear up gpu memory\n",
    "    H.to(\"cpu\")\n",
    "    all_inputs.to(\"cpu\")\n",
    "    return spectrum"
   ]
  },
  {
   "cell_type": "code",
   "execution_count": 13,
   "metadata": {},
   "outputs": [],
   "source": [
    "def train_model(model, train_dl, val_dl, H, all_inputs, lr=1e-3, weight_decay=0.0, reg_lambda=1e-2, rho=0.01, num_epochs=20, device=\"cuda\"):\n",
    "    model.to(device)\n",
    "    optim = torch.optim.Adam(model.parameters(), lr=lr, weight_decay=weight_decay)\n",
    "    \n",
    "    l2_loss = torch.nn.MSELoss()\n",
    "    \n",
    "    # these are the uniform sampling protein pattern\n",
    "    # parameters are set as N=13 mutations, m=4 anticipated sparsity level, and d=3 number of offsets\n",
    "    sampling_matrix1  = pickle.load(open('N13-m4-d3/sampling-matrix-1.p','rb'))\n",
    "    sampling_matrix2  = pickle.load(open('N13-m4-d3/sampling-matrix-2.p','rb'))\n",
    "    sampling_matrix3  = pickle.load(open('N13-m4-d3/sampling-matrix-3.p','rb'))\n",
    "    delays_matrix1 = pickle.load(open('N13-m4-d3/delays-1.p','rb'))\n",
    "    delays_matrix2 = pickle.load(open('N13-m4-d3/delays-2.p','rb'))\n",
    "    delays_matrix3 = pickle.load(open('N13-m4-d3/delays-3.p','rb'))\n",
    "    all_sampling_locations1 = pickle.load(open('N13-m4-d3/sampling-locations-1.p','rb'))\n",
    "    all_sampling_locations2 = pickle.load(open('N13-m4-d3/sampling-locations-2.p','rb'))\n",
    "    all_sampling_locations3 = pickle.load(open('N13-m4-d3/sampling-locations-3.p','rb'))\n",
    "    \n",
    "    X_all = np.concatenate((np.vstack(all_sampling_locations1),np.vstack(all_sampling_locations2),np.vstack(all_sampling_locations3)))\n",
    "    X_all,X_all_inverse_ind = np.unique(X_all, axis=0, return_inverse='True')\n",
    "    \n",
    "    # initialzie ADMM \n",
    "    Hu = np.zeros(len(X_all))\n",
    "    lam = np.zeros(len(X_all))\n",
    "    \n",
    "    for epoch in range(num_epochs):\n",
    "        ###############################\n",
    "        ########## TRAIN LOOP #########\n",
    "        ###############################\n",
    "        model.train()\n",
    "        for X, y in train_dl:\n",
    "            optim.zero_grad()\n",
    "            X, y = X.to(device), y.to(device)\n",
    "            y_hat = model(X)\n",
    "            loss = F.mse_loss(y, y_hat)\n",
    "\n",
    "            # Apply EN-S regularization\n",
    "            #spectrum = compute_wht_spectrum(model, H, all_inputs, device=device)\n",
    "            #reg_loss = F.l1_loss(spectrum, torch.zeros_like(spectrum))\n",
    "            #loss += reg_lambda * reg_loss\n",
    "            \n",
    "            #spectrum2 = compute_wht_spectrum(model, H, torch.tensor(X_all, dtype=torch.float), device=device)\n",
    "            wht_out = model(torch.tensor(X_all, dtype=torch.float)).reshape(-1)\n",
    "            wht_diff = wht_out - torch.tensor(Hu, dtype=torch.float) + torch.tensor(lam, dtype=torch.float)\n",
    "            reg_loss = rho/2 * l2_loss(wht_diff,torch.zeros_like(wht_diff))\n",
    "            loss += reg_lambda * reg_loss\n",
    "\n",
    "            loss.backward()\n",
    "            optim.step()\n",
    "        \n",
    "        with torch.no_grad():\n",
    "            y_hat_all = model(torch.from_numpy(X_all).float())\n",
    "        y_hat_all = y_hat_all.numpy().flatten()\n",
    "    \n",
    "    \n",
    "        # run spright to do fast sparse WHT\n",
    "        spright = SPRIGHT('frame', [1,2,3],sampling_matrix1,sampling_matrix2,sampling_matrix3,delays_matrix1,delays_matrix2,delays_matrix3,all_sampling_locations1,all_sampling_locations2,all_sampling_locations3)\n",
    "        spright.set_train_data(X_all,  y_hat_all + lam, X_all_inverse_ind)\n",
    "        spright.model_to_remove = model\n",
    "        flag = spright.initial_run()\n",
    "        if not flag:\n",
    "            continue\n",
    "        spright.peel_rest()\n",
    "        \n",
    "        M = make_system_simple(np.vstack(spright.model.support), X_all)\n",
    "        Hu = np.dot(M,spright.model.coef_)\n",
    "        \n",
    "        # update the dual \n",
    "        lam = lam + y_hat_all - Hu\n",
    "\n",
    "        ###############################\n",
    "        ########## VAL LOOP #########\n",
    "        ###############################\n",
    "        model.eval()\n",
    "        with torch.no_grad():\n",
    "            X, y = next(iter(val_dl))\n",
    "            X, y = X.to(device), y.to(device)\n",
    "            y_hat = model(X)\n",
    "            val_loss = F.mse_loss(y, y_hat).item()\n",
    "            print(f\"Validation Loss: {val_loss:.3f}\")\n",
    "    return model"
   ]
  },
  {
   "cell_type": "code",
   "execution_count": 14,
   "metadata": {},
   "outputs": [],
   "source": [
    "################################################\n",
    "######## Get WHT Matrix and All Inputs #########\n",
    "################################################\n",
    "\n",
    "H = walsh_hadamard_matrix(L=L)\n",
    "all_inputs = np.asarray(list((product((0,1), repeat=L))))\n",
    "H = torch.tensor(H, dtype=torch.float)\n",
    "all_inputs = torch.tensor(all_inputs, dtype=torch.float)\n"
   ]
  },
  {
   "cell_type": "code",
   "execution_count": 15,
   "metadata": {},
   "outputs": [],
   "source": [
    "################################################\n",
    "###### Get Dataset and Split Train/Test ########\n",
    "################################################\n",
    "\n",
    "torch.manual_seed(1)\n",
    "random.seed(1)\n",
    "np.random.seed(1)\n",
    "\n",
    "n_train = 60\n",
    "bs = 16\n",
    "\n",
    "X_all = torch.tensor([[float(x) for x in g] for g in genotypes], dtype=torch.float)\n",
    "y_all = torch.tensor(brightness, dtype=torch.float)\n",
    "n = X_all.shape[0]\n",
    "ds = TensorDataset(X_all,y_all)\n",
    "\n",
    "# Create Datasets / DataLoaders\n",
    "train_ds, val_ds, test_ds = random_split(ds, lengths=[n_train, n_train, n - 2*n_train])\n",
    "train_dl = DataLoader(train_ds, batch_size=bs, shuffle=True)\n",
    "val_dl = DataLoader(val_ds, batch_size=len(val_ds), shuffle=False)\n",
    "test_dl = DataLoader(test_ds, batch_size=len(test_ds), shuffle=False)\n"
   ]
  },
  {
   "cell_type": "code",
   "execution_count": 16,
   "metadata": {},
   "outputs": [
    {
     "name": "stdout",
     "output_type": "stream",
     "text": [
      "Validation Loss: 0.263\n",
      "Validation Loss: 0.320\n",
      "Validation Loss: 0.486\n",
      "Validation Loss: 0.691\n",
      "Validation Loss: 0.881\n",
      "Validation Loss: 1.018\n",
      "Validation Loss: 1.056\n",
      "Validation Loss: 1.061\n",
      "Validation Loss: 0.910\n",
      "Validation Loss: 0.788\n",
      "Validation Loss: 0.751\n",
      "Test Loss: 0.653\n"
     ]
    }
   ],
   "source": [
    "lr = 1e-3\n",
    "weight_decay = 0.0\n",
    "reg_lambda = 1e-2  ## with EN regularization\n",
    "num_epochs = 20\n",
    "rho = 0.01\n",
    "device = \"cpu\"\n",
    "\n",
    "torch.manual_seed(1)\n",
    "random.seed(1)\n",
    "np.random.seed(1)\n",
    "\n",
    "model = Net(L, 2)\n",
    "model = train_model(model, train_dl, val_dl, H, all_inputs, \n",
    "                    lr=lr, weight_decay=weight_decay, reg_lambda=reg_lambda, rho=rho, \n",
    "                    num_epochs=num_epochs, device=device)\n",
    "\n",
    "\n",
    "model.eval()\n",
    "with torch.no_grad():\n",
    "    X, y = next(iter(test_dl))\n",
    "    X, y = X.to(device), y.to(device)\n",
    "    y_hat = model(X)\n",
    "    test_loss = F.mse_loss(y_hat, y).item()\n",
    "    print(f\"Test Loss: {test_loss:.3f}\")"
   ]
  },
  {
   "cell_type": "code",
   "execution_count": 17,
   "metadata": {},
   "outputs": [
    {
     "name": "stdout",
     "output_type": "stream",
     "text": [
      "Validation Loss: 1.248\n",
      "Validation Loss: 2.106\n",
      "Validation Loss: 2.118\n",
      "Validation Loss: 2.028\n",
      "Validation Loss: 1.830\n",
      "Validation Loss: 1.336\n",
      "Validation Loss: 1.295\n",
      "Validation Loss: 1.293\n",
      "Validation Loss: 1.265\n",
      "Validation Loss: 1.254\n",
      "Test Loss: 1.091\n"
     ]
    }
   ],
   "source": [
    "lr = 1e-3\n",
    "weight_decay = 0.0\n",
    "reg_lambda = 0     ## without EN regularization\n",
    "num_epochs = 20\n",
    "device = \"cpu\"\n",
    "model = Net(L, 2)\n",
    "model = train_model(model, train_dl, val_dl, H, all_inputs, \n",
    "                    lr=lr, weight_decay=weight_decay, reg_lambda=reg_lambda, \n",
    "                    num_epochs=num_epochs, device=device)\n",
    "\n",
    "\n",
    "model.eval()\n",
    "with torch.no_grad():\n",
    "    X, y = next(iter(test_dl))\n",
    "    X, y = X.to(device), y.to(device)\n",
    "    y_hat = model(X)\n",
    "    test_loss = F.mse_loss(y_hat, y).item()\n",
    "    print(f\"Test Loss: {test_loss:.3f}\")"
   ]
  }
 ],
 "metadata": {
  "kernelspec": {
   "display_name": "Python 3",
   "language": "python",
   "name": "python3"
  },
  "language_info": {
   "codemirror_mode": {
    "name": "ipython",
    "version": 3
   },
   "file_extension": ".py",
   "mimetype": "text/x-python",
   "name": "python",
   "nbconvert_exporter": "python",
   "pygments_lexer": "ipython3",
   "version": "3.9.1"
  },
  "name": "EN_V2.ipynb"
 },
 "nbformat": 4,
 "nbformat_minor": 4
}
